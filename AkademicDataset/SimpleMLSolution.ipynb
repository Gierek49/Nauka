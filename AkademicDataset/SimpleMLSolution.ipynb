{
 "cells": [
  {
   "cell_type": "markdown",
   "id": "b587cb0e-25bb-4cff-b1fc-35c2899f4a2a",
   "metadata": {},
   "source": [
    "# Simple Machine Learning Solutions for this dataset"
   ]
  },
  {
   "cell_type": "code",
   "execution_count": 1,
   "id": "f22ec172-e203-42bd-9ec7-df9714227696",
   "metadata": {},
   "outputs": [],
   "source": [
    "import pandas as pd \n",
    "from sklearn.ensemble import RandomForestClassifier\n",
    "from sklearn.model_selection import train_test_split\n",
    "from sklearn.metrics import confusion_matrix, ConfusionMatrixDisplay, precision_score\n",
    "from xgboost import XGBClassifier\n",
    "from catboost import CatBoostClassifier\n",
    "import tensorflow as tf\n",
    "import matplotlib.pyplot as plt\n",
    "import seaborn as sns"
   ]
  },
  {
   "cell_type": "code",
   "execution_count": 2,
   "id": "b4591426-010e-4631-9cd1-41610ba42b35",
   "metadata": {},
   "outputs": [],
   "source": [
    "data = pd.read_csv('./Data/academic_data.csv')"
   ]
  },
  {
   "cell_type": "code",
   "execution_count": 3,
   "id": "3d3f2542-0597-48f8-893a-3997a765a1b5",
   "metadata": {},
   "outputs": [],
   "source": [
    "y = data['will_go_to_college']\n",
    "X = data.drop('will_go_to_college',axis=1)"
   ]
  },
  {
   "cell_type": "code",
   "execution_count": 4,
   "id": "011df6b6-69c2-4301-9257-a5e142373ffb",
   "metadata": {},
   "outputs": [],
   "source": [
    "X_train, X_test, y_train, y_test = train_test_split(X,y,test_size=0.2,stratify=y)"
   ]
  },
  {
   "cell_type": "code",
   "execution_count": 5,
   "id": "304ec8ac-93e1-40da-9f5a-07b8da51fb54",
   "metadata": {},
   "outputs": [
    {
     "data": {
      "text/plain": [
       "RandomForestClassifier(n_estimators=500, random_state=0)"
      ]
     },
     "execution_count": 5,
     "metadata": {},
     "output_type": "execute_result"
    }
   ],
   "source": [
    "randomforest = RandomForestClassifier(n_estimators=500,random_state=0)\n",
    "randomforest.fit(X_train,y_train)"
   ]
  },
  {
   "cell_type": "code",
   "execution_count": 6,
   "id": "db85b838-da88-4093-b5ff-cb06bf5ee67e",
   "metadata": {},
   "outputs": [
    {
     "data": {
      "image/png": "[encoded data removed]",
      "text/plain": [
       "<Figure size 432x288 with 2 Axes>"
      ]
     },
     "metadata": {
      "needs_background": "light"
     },
     "output_type": "display_data"
    }
   ],
   "source": [
    "y_predict = randomforest.predict(X_test)\n",
    "matrix = confusion_matrix(y_test, y_predict)\n",
    "disp = ConfusionMatrixDisplay(confusion_matrix=matrix,display_labels=randomforest.classes_)\n",
    "disp.plot()\n",
    "plt.show()"
   ]
  },
  {
   "cell_type": "code",
   "execution_count": 7,
   "id": "d7d751f8-9f24-402f-b3b2-1e353a6a9384",
   "metadata": {},
   "outputs": [
    {
     "data": {
      "text/plain": [
       "XGBClassifier(base_score=0.5, booster='gbtree', callbacks=None,\n",
       "              colsample_bylevel=1, colsample_bynode=1, colsample_bytree=1,\n",
       "              early_stopping_rounds=None, enable_categorical=False,\n",
       "              eval_metric=None, gamma=0, gpu_id=-1, grow_policy='depthwise',\n",
       "              importance_type=None, interaction_constraints='',\n",
       "              learning_rate=0.05, max_bin=256, max_cat_to_onehot=4,\n",
       "              max_delta_step=0, max_depth=6, max_leaves=0, min_child_weight=1,\n",
       "              missing=nan, monotone_constraints='()', n_estimators=500,\n",
       "              n_jobs=0, num_parallel_tree=1, predictor='auto', random_state=0,\n",
       "              reg_alpha=0, reg_lambda=1, ...)"
      ]
     },
     "execution_count": 7,
     "metadata": {},
     "output_type": "execute_result"
    }
   ],
   "source": [
    "xgb = XGBClassifier(n_estimators=500,random_state=0, learning_rate=0.05)\n",
    "xgb.fit(X_train,y_train)"
   ]
  },
  {
   "cell_type": "code",
   "execution_count": 8,
   "id": "a7b05408-1618-4d6d-9066-eb3d71d13fec",
   "metadata": {},
   "outputs": [
    {
     "name": "stdout",
     "output_type": "stream",
     "text": [
      "0.92\n"
     ]
    },
    {
     "data": {
      "image/png": "[encoded data removed]",
      "text/plain": [
       "<Figure size 432x288 with 2 Axes>"
      ]
     },
     "metadata": {
      "needs_background": "light"
     },
     "output_type": "display_data"
    }
   ],
   "source": [
    "y_predict = xgb.predict(X_test)\n",
    "print(precision_score(y_test,y_predict))\n",
    "matrix = confusion_matrix(y_test, y_predict)\n",
    "disp = ConfusionMatrixDisplay(confusion_matrix=matrix,display_labels=xgb.classes_)\n",
    "disp.plot()\n",
    "plt.show()"
   ]
  },
  {
   "cell_type": "code",
   "execution_count": 9,
   "id": "cefcdfdd-d347-4279-86d8-b5ccfef83755",
   "metadata": {},
   "outputs": [
    {
     "data": {
      "text/plain": [
       "<catboost.core.CatBoostClassifier at 0x1569daeee20>"
      ]
     },
     "execution_count": 9,
     "metadata": {},
     "output_type": "execute_result"
    }
   ],
   "source": [
    "catboost = CatBoostClassifier(iterations=100,\n",
    "                           depth=4,\n",
    "                           learning_rate=1,\n",
    "                           loss_function='Logloss',\n",
    "                           verbose=False)\n",
    "catboost.fit(X_train,y_train)"
   ]
  },
  {
   "cell_type": "code",
   "execution_count": 10,
   "id": "38e08ffe-1bdc-4567-96b3-f314499acff5",
   "metadata": {},
   "outputs": [
    {
     "name": "stdout",
     "output_type": "stream",
     "text": [
      "0.9354838709677419\n"
     ]
    },
    {
     "data": {
      "image/png": "[encoded data removed]",
      "text/plain": [
       "<Figure size 432x288 with 2 Axes>"
      ]
     },
     "metadata": {
      "needs_background": "light"
     },
     "output_type": "display_data"
    }
   ],
   "source": [
    "y_predict = catboost.predict(X_test)\n",
    "print(precision_score(y_test,y_predict))\n",
    "matrix = confusion_matrix(y_test, y_predict)\n",
    "disp = ConfusionMatrixDisplay(confusion_matrix=matrix,display_labels=catboost.classes_)\n",
    "disp.plot()\n",
    "plt.show()"
   ]
  },
  {
   "cell_type": "code",
   "execution_count": 14,
   "id": "9d25ac21-fd06-4eca-9727-258b1b8ad2f6",
   "metadata": {},
   "outputs": [
    {
     "name": "stdout",
     "output_type": "stream",
     "text": [
      "Epoch 1/50\n",
      "25/25 [==============================] - 1s 2ms/step - loss: 0.6844 - precision_1: 0.5474\n",
      "Epoch 2/50\n",
      "25/25 [==============================] - 0s 2ms/step - loss: 0.6704 - precision_1: 0.5900\n",
      "Epoch 3/50\n",
      "25/25 [==============================] - 0s 1ms/step - loss: 0.6531 - precision_1: 0.6077\n",
      "Epoch 4/50\n",
      "25/25 [==============================] - 0s 1ms/step - loss: 0.6275 - precision_1: 0.6968\n",
      "Epoch 5/50\n",
      "25/25 [==============================] - 0s 2ms/step - loss: 0.6058 - precision_1: 0.7064\n",
      "Epoch 6/50\n",
      "25/25 [==============================] - 0s 1ms/step - loss: 0.5774 - precision_1: 0.7140\n",
      "Epoch 7/50\n",
      "25/25 [==============================] - 0s 2ms/step - loss: 0.5584 - precision_1: 0.7616\n",
      "Epoch 8/50\n",
      "25/25 [==============================] - 0s 1ms/step - loss: 0.5193 - precision_1: 0.7545\n",
      "Epoch 9/50\n",
      "25/25 [==============================] - 0s 1ms/step - loss: 0.4967 - precision_1: 0.7724\n",
      "Epoch 10/50\n",
      "25/25 [==============================] - 0s 2ms/step - loss: 0.4632 - precision_1: 0.7907\n",
      "Epoch 11/50\n",
      "25/25 [==============================] - 0s 1ms/step - loss: 0.4387 - precision_1: 0.8273\n",
      "Epoch 12/50\n",
      "25/25 [==============================] - 0s 1ms/step - loss: 0.4033 - precision_1: 0.8190\n",
      "Epoch 13/50\n",
      "25/25 [==============================] - 0s 1ms/step - loss: 0.3915 - precision_1: 0.8301\n",
      "Epoch 14/50\n",
      "25/25 [==============================] - 0s 1ms/step - loss: 0.3906 - precision_1: 0.8160\n",
      "Epoch 15/50\n",
      "25/25 [==============================] - 0s 1ms/step - loss: 0.3664 - precision_1: 0.8458\n",
      "Epoch 16/50\n",
      "25/25 [==============================] - 0s 2ms/step - loss: 0.3449 - precision_1: 0.8447\n",
      "Epoch 17/50\n",
      "25/25 [==============================] - 0s 1ms/step - loss: 0.3411 - precision_1: 0.8445\n",
      "Epoch 18/50\n",
      "25/25 [==============================] - 0s 1ms/step - loss: 0.3321 - precision_1: 0.8599\n",
      "Epoch 19/50\n",
      "25/25 [==============================] - 0s 1ms/step - loss: 0.3103 - precision_1: 0.8585\n",
      "Epoch 20/50\n",
      "25/25 [==============================] - 0s 1ms/step - loss: 0.3051 - precision_1: 0.8655\n",
      "Epoch 21/50\n",
      "25/25 [==============================] - 0s 1ms/step - loss: 0.2986 - precision_1: 0.8668\n",
      "Epoch 22/50\n",
      "25/25 [==============================] - 0s 1ms/step - loss: 0.2887 - precision_1: 0.8684\n",
      "Epoch 23/50\n",
      "25/25 [==============================] - 0s 1ms/step - loss: 0.3002 - precision_1: 0.8607\n",
      "Epoch 24/50\n",
      "25/25 [==============================] - 0s 1ms/step - loss: 0.2830 - precision_1: 0.8652\n",
      "Epoch 25/50\n",
      "25/25 [==============================] - 0s 1ms/step - loss: 0.2912 - precision_1: 0.8600\n",
      "Epoch 26/50\n",
      "25/25 [==============================] - 0s 1ms/step - loss: 0.2861 - precision_1: 0.8671\n",
      "Epoch 27/50\n",
      "25/25 [==============================] - 0s 1ms/step - loss: 0.2783 - precision_1: 0.8708\n",
      "Epoch 28/50\n",
      "25/25 [==============================] - 0s 2ms/step - loss: 0.2721 - precision_1: 0.8903\n",
      "Epoch 29/50\n",
      "25/25 [==============================] - 0s 1ms/step - loss: 0.2743 - precision_1: 0.8649\n",
      "Epoch 30/50\n",
      "25/25 [==============================] - 0s 1ms/step - loss: 0.2684 - precision_1: 0.8859\n",
      "Epoch 31/50\n",
      "25/25 [==============================] - 0s 1ms/step - loss: 0.2594 - precision_1: 0.8928\n",
      "Epoch 32/50\n",
      "25/25 [==============================] - 0s 1ms/step - loss: 0.2608 - precision_1: 0.8886\n",
      "Epoch 33/50\n",
      "25/25 [==============================] - 0s 1ms/step - loss: 0.2628 - precision_1: 0.8747\n",
      "Epoch 34/50\n",
      "25/25 [==============================] - 0s 1ms/step - loss: 0.2640 - precision_1: 0.8819\n",
      "Epoch 35/50\n",
      "25/25 [==============================] - 0s 2ms/step - loss: 0.2553 - precision_1: 0.8953\n",
      "Epoch 36/50\n",
      "25/25 [==============================] - 0s 1ms/step - loss: 0.2452 - precision_1: 0.8949\n",
      "Epoch 37/50\n",
      "25/25 [==============================] - 0s 1ms/step - loss: 0.2541 - precision_1: 0.9023\n",
      "Epoch 38/50\n",
      "25/25 [==============================] - 0s 1ms/step - loss: 0.2560 - precision_1: 0.8805\n",
      "Epoch 39/50\n",
      "25/25 [==============================] - 0s 1ms/step - loss: 0.2602 - precision_1: 0.8710\n",
      "Epoch 40/50\n",
      "25/25 [==============================] - 0s 1ms/step - loss: 0.2469 - precision_1: 0.8814\n",
      "Epoch 41/50\n",
      "25/25 [==============================] - 0s 1ms/step - loss: 0.2445 - precision_1: 0.9070\n",
      "Epoch 42/50\n",
      "25/25 [==============================] - 0s 1ms/step - loss: 0.2433 - precision_1: 0.8936\n",
      "Epoch 43/50\n",
      "25/25 [==============================] - 0s 1ms/step - loss: 0.2312 - precision_1: 0.9007\n",
      "Epoch 44/50\n",
      "25/25 [==============================] - 0s 1ms/step - loss: 0.2428 - precision_1: 0.8914\n",
      "Epoch 45/50\n",
      "25/25 [==============================] - 0s 1ms/step - loss: 0.2449 - precision_1: 0.8783\n",
      "Epoch 46/50\n",
      "25/25 [==============================] - 0s 1ms/step - loss: 0.2268 - precision_1: 0.8875\n",
      "Epoch 47/50\n",
      "25/25 [==============================] - 0s 1ms/step - loss: 0.2279 - precision_1: 0.9052\n",
      "Epoch 48/50\n",
      "25/25 [==============================] - 0s 1ms/step - loss: 0.2256 - precision_1: 0.8998\n",
      "Epoch 49/50\n",
      "25/25 [==============================] - 0s 1ms/step - loss: 0.2269 - precision_1: 0.9002\n",
      "Epoch 50/50\n",
      "25/25 [==============================] - 0s 1ms/step - loss: 0.2310 - precision_1: 0.8937\n"
     ]
    },
    {
     "data": {
      "text/plain": [
       "<keras.callbacks.History at 0x1569fa736a0>"
      ]
     },
     "execution_count": 14,
     "metadata": {},
     "output_type": "execute_result"
    }
   ],
   "source": [
    "model = tf.keras.Sequential([\n",
    "    tf.keras.layers.Input(shape=X.shape[1]),\n",
    "    tf.keras.layers.Dense(100,activation='relu'),\n",
    "    tf.keras.layers.Dense(50,activation='relu'),\n",
    "    tf.keras.layers.Dropout(0.2),\n",
    "    tf.keras.layers.Dense(1,activation='sigmoid')\n",
    "    ])\n",
    "model.compile(loss='binary_crossentropy', optimizer='adam', metrics=[tf.keras.metrics.Precision()])\n",
    "model.fit(X_train,y_train,epochs=50)"
   ]
  },
  {
   "cell_type": "code",
   "execution_count": 18,
   "id": "38a3173c-510a-4d92-835b-ccc19ae8f84b",
   "metadata": {},
   "outputs": [
    {
     "name": "stdout",
     "output_type": "stream",
     "text": [
      "7/7 [==============================] - 0s 997us/step\n"
     ]
    }
   ],
   "source": [
    "model_prediction = (model.predict(X_test) > 0.5).astype(\"int32\")"
   ]
  },
  {
   "cell_type": "code",
   "execution_count": 19,
   "id": "dc916b99-5916-44b0-857c-79c72ad3c40e",
   "metadata": {},
   "outputs": [
    {
     "data": {
      "text/plain": [
       "0.9456521739130435"
      ]
     },
     "execution_count": 19,
     "metadata": {},
     "output_type": "execute_result"
    }
   ],
   "source": [
    "print(precision_score(y_test,y_predict))\n",
    "matrix = confusion_matrix(y_test, model_prediction)\n",
    "disp = ConfusionMatrixDisplay(confusion_matrix=matrix,display_labels=catboost.classes_)\n",
    "disp.plot()\n",
    "plt.show()"
   ]
  },
  {
   "cell_type": "code",
   "execution_count": null,
   "id": "bbb0cd3c-0a02-4e81-9411-f1cf54f9921b",
   "metadata": {},
   "outputs": [],
   "source": []
  }
 ],
 "metadata": {
  "kernelspec": {
   "display_name": "Python 3 (ipykernel)",
   "language": "python",
   "name": "python3"
  },
  "language_info": {
   "codemirror_mode": {
    "name": "ipython",
    "version": 3
   },
   "file_extension": ".py",
   "mimetype": "text/x-python",
   "name": "python",
   "nbconvert_exporter": "python",
   "pygments_lexer": "ipython3",
   "version": "3.9.7"
  }
 },
 "nbformat": 4,
 "nbformat_minor": 5
}
